{
  "nbformat": 4,
  "nbformat_minor": 0,
  "metadata": {
    "colab": {
      "name": "GeneticAlgorithmMachineLearning.ipynb",
      "provenance": [],
      "collapsed_sections": []
    },
    "kernelspec": {
      "display_name": "Python 3",
      "name": "python3"
    },
    "language_info": {
      "name": "python"
    }
  },
  "cells": [
    {
      "cell_type": "markdown",
      "metadata": {
        "id": "VFxbJ-8VWl0B"
      },
      "source": [
        "Data uploading"
      ]
    },
    {
      "cell_type": "code",
      "metadata": {
        "colab": {
          "resources": {
            "http://localhost:8080/nbextensions/google.colab/files.js": {
              "data": "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",
              "ok": true,
              "headers": [
                [
                  "content-type",
                  "application/javascript"
                ]
              ],
              "status": 200,
              "status_text": ""
            }
          },
          "base_uri": "https://localhost:8080/",
          "height": 129
        },
        "id": "fWl54BmEWRk5",
        "outputId": "057cf06f-104c-4b01-83c5-bc92b17201dd"
      },
      "source": [
        "from google.colab import files\n",
        "train_uploaded = files.upload()\n",
        "test_uploaded = files.upload()"
      ],
      "execution_count": null,
      "outputs": [
        {
          "output_type": "display_data",
          "data": {
            "text/html": [
              "\n",
              "     <input type=\"file\" id=\"files-98185728-2d05-4728-beac-9fde86b53f76\" name=\"files[]\" multiple disabled\n",
              "        style=\"border:none\" />\n",
              "     <output id=\"result-98185728-2d05-4728-beac-9fde86b53f76\">\n",
              "      Upload widget is only available when the cell has been executed in the\n",
              "      current browser session. Please rerun this cell to enable.\n",
              "      </output>\n",
              "      <script src=\"/nbextensions/google.colab/files.js\"></script> "
            ],
            "text/plain": [
              "<IPython.core.display.HTML object>"
            ]
          },
          "metadata": {
            "tags": []
          }
        },
        {
          "output_type": "stream",
          "text": [
            "Saving train.csv to train (1).csv\n"
          ],
          "name": "stdout"
        },
        {
          "output_type": "display_data",
          "data": {
            "text/html": [
              "\n",
              "     <input type=\"file\" id=\"files-cfa33ab1-437c-45ac-baf3-5315a77860a9\" name=\"files[]\" multiple disabled\n",
              "        style=\"border:none\" />\n",
              "     <output id=\"result-cfa33ab1-437c-45ac-baf3-5315a77860a9\">\n",
              "      Upload widget is only available when the cell has been executed in the\n",
              "      current browser session. Please rerun this cell to enable.\n",
              "      </output>\n",
              "      <script src=\"/nbextensions/google.colab/files.js\"></script> "
            ],
            "text/plain": [
              "<IPython.core.display.HTML object>"
            ]
          },
          "metadata": {
            "tags": []
          }
        },
        {
          "output_type": "stream",
          "text": [
            "Saving test.csv to test (2).csv\n"
          ],
          "name": "stdout"
        }
      ]
    },
    {
      "cell_type": "markdown",
      "metadata": {
        "id": "DsXdPNv8W-9x"
      },
      "source": [
        "Library loading"
      ]
    },
    {
      "cell_type": "code",
      "metadata": {
        "colab": {
          "base_uri": "https://localhost:8080/"
        },
        "id": "vPcfmLMVXPOK",
        "outputId": "208d4416-4746-49cc-e36a-53abf00a4d2f"
      },
      "source": [
        "!pip install deap"
      ],
      "execution_count": null,
      "outputs": [
        {
          "output_type": "stream",
          "text": [
            "Requirement already satisfied: deap in /usr/local/lib/python3.7/dist-packages (1.3.1)\n",
            "Requirement already satisfied: numpy in /usr/local/lib/python3.7/dist-packages (from deap) (1.19.5)\n"
          ],
          "name": "stdout"
        }
      ]
    },
    {
      "cell_type": "code",
      "metadata": {
        "id": "FqDRo2WPXAOg"
      },
      "source": [
        "import pandas as pd\n",
        "import numpy as np\n",
        "import random as rnd\n",
        "import io\n",
        "\n",
        "from deap import base\n",
        "from deap import creator\n",
        "from deap import tools\n",
        "\n",
        "import seaborn as sns\n",
        "import matplotlib.pyplot as plt\n",
        "%matplotlib inline\n",
        "\n",
        "from sklearn import preprocessing\n",
        "from sklearn.linear_model import LogisticRegression\n",
        "from sklearn.svm import SVC, LinearSVC\n",
        "from sklearn.ensemble import RandomForestClassifier\n",
        "from sklearn.neighbors import KNeighborsClassifier\n",
        "from sklearn.naive_bayes import GaussianNB\n",
        "from sklearn.linear_model import Perceptron\n",
        "from sklearn.linear_model import SGDClassifier\n",
        "from sklearn.tree import DecisionTreeClassifier\n",
        "from sklearn.ensemble import VotingClassifier\n",
        "from sklearn.model_selection import cross_val_score\n",
        "from sklearn.model_selection import KFold\n",
        "from sklearn.metrics import confusion_matrix\n",
        "from sklearn.model_selection import train_test_split\n",
        "from sklearn.model_selection import GridSearchCV\n",
        "from sklearn.pipeline import Pipeline\n",
        "from sklearn.feature_selection import SelectKBest\n",
        "from sklearn.feature_selection import f_regression\n",
        "from sklearn.pipeline import make_pipeline"
      ],
      "execution_count": null,
      "outputs": []
    },
    {
      "cell_type": "code",
      "metadata": {
        "id": "KZgC-6LFXNs7"
      },
      "source": [
        "train_df = pd.read_csv(io.BytesIO(train_uploaded['train.csv']))\n",
        "test_df = pd.read_csv(io.BytesIO(test_uploaded['test.csv']))\n",
        "dfs = [train_df, test_df]\n",
        "full_origin = pd.concat([train_df.drop('Survived', 1), test_df])"
      ],
      "execution_count": null,
      "outputs": []
    },
    {
      "cell_type": "markdown",
      "metadata": {
        "id": "mZ5YxmK-X014"
      },
      "source": [
        "### Data preprocessing"
      ]
    },
    {
      "cell_type": "code",
      "metadata": {
        "id": "CslHyKkgXhrl"
      },
      "source": [
        "def clean_ticket(ticket):\n",
        "  original_ticket = ticket\n",
        "  ticket = ticket.replace('.', '')\n",
        "  ticket = ticket.replace('/', '')\n",
        "  ticket = ticket.split()\n",
        "  ticket = map(lambda x: x.strip(), ticket)\n",
        "  ticket = list(filter(lambda x: not x.isdigit(), ticket))\n",
        "\n",
        "  if len(ticket) > 0:\n",
        "    return ticket[0]\n",
        "  else:\n",
        "    return 'XXX'"
      ],
      "execution_count": null,
      "outputs": []
    },
    {
      "cell_type": "markdown",
      "metadata": {
        "id": "4zksr0dhbiHI"
      },
      "source": [
        "Grouping according to Age "
      ]
    },
    {
      "cell_type": "code",
      "metadata": {
        "id": "D7omETppZCyF"
      },
      "source": [
        "def simplify_age(df):\n",
        "  df.Age = df.Age.fillna(-0.5)\n",
        "  bins = (-1, 0, 5, 12, 18, 25, 35, 60, 120)\n",
        "  group_names = ['Unknown', 'Baby', 'Child', 'Teenager', 'Student', 'Young Adult', 'Adult', 'Senior']\n",
        "  categories = pd.cut(df.Age, bins, labels=group_names)\n",
        "  df['AgeBins'] = categories\n",
        "  \n",
        "  return df"
      ],
      "execution_count": null,
      "outputs": []
    },
    {
      "cell_type": "markdown",
      "metadata": {
        "id": "e-9VLnQublKx"
      },
      "source": [
        "Grouping according to Fare "
      ]
    },
    {
      "cell_type": "code",
      "metadata": {
        "id": "9advb4j0ZcVe"
      },
      "source": [
        "def simplify_fares(df):\n",
        "  df.Fare = df.Fare.fillna(-0.5)\n",
        "  bins = (-1, 0, 8, 15, 31, 1000)\n",
        "  group_names = ['Unknown', '1_quartile', '2_quartile', '3_quartile', '4_quartile']\n",
        "  categories = pd.cut(df.Fare, bins, labels=group_names)\n",
        "  df['FareBins'] = categories\n",
        "\n",
        "  return df"
      ],
      "execution_count": null,
      "outputs": []
    },
    {
      "cell_type": "markdown",
      "metadata": {
        "id": "0MRYVdyhbffm"
      },
      "source": [
        "Map features to Numeric values"
      ]
    },
    {
      "cell_type": "code",
      "metadata": {
        "id": "xD6wKyPtaGVM"
      },
      "source": [
        "def encode_features(df_train, df_test, features):\n",
        "    df_combined = pd.concat([df_train[features], df_test[features]])    \n",
        "    for feature in features:\n",
        "        le = preprocessing.LabelEncoder()\n",
        "        le = le.fit(df_combined[feature])\n",
        "        df_train[feature] = le.transform(df_train[feature])\n",
        "        df_test[feature] = le.transform(df_test[feature])\n",
        "    return df_train, df_test"
      ],
      "execution_count": null,
      "outputs": []
    },
    {
      "cell_type": "markdown",
      "metadata": {
        "id": "U9DXja6cbd3L"
      },
      "source": [
        "Creating Title feature and mapping some synonyms"
      ]
    },
    {
      "cell_type": "code",
      "metadata": {
        "id": "mJusCXj5awu_"
      },
      "source": [
        "for dataset in dfs:\n",
        "  dataset['Title'] = dataset['Name'].str.split(', ', expand=True)[1].str.split('.', expand=True)[0]\n",
        "  dataset['Title'] = dataset['Title'].replace('Mlle', 'Miss')\n",
        "  dataset['Title'] = dataset['Title'].replace('Ms', 'Miss')\n",
        "  dataset['Title'] = dataset['Title'].replace('Mme', 'Mrs')"
      ],
      "execution_count": null,
      "outputs": []
    },
    {
      "cell_type": "markdown",
      "metadata": {
        "id": "PT59kvlQbcMi"
      },
      "source": [
        "Converting Sex categorical feature to int value"
      ]
    },
    {
      "cell_type": "code",
      "metadata": {
        "id": "XpVbq855bLJC"
      },
      "source": [
        "for dataset in dfs:\n",
        "  dataset['Sex'] = dataset['Sex'].map({'female': 1, 'male': 0}).astype(int)"
      ],
      "execution_count": null,
      "outputs": []
    },
    {
      "cell_type": "markdown",
      "metadata": {
        "id": "-WBTE5vhbuMK"
      },
      "source": [
        "Checking Age missing values"
      ]
    },
    {
      "cell_type": "code",
      "metadata": {
        "id": "HGZMmv2EbZ1r"
      },
      "source": [
        "for dataset in dfs:\n",
        "    dataset['Age_known'] = dataset['Age'].isnull() == False"
      ],
      "execution_count": null,
      "outputs": []
    },
    {
      "cell_type": "markdown",
      "metadata": {
        "id": "YGHEPXYNb3Em"
      },
      "source": [
        "Filling in missing values: Embarked"
      ]
    },
    {
      "cell_type": "code",
      "metadata": {
        "colab": {
          "base_uri": "https://localhost:8080/"
        },
        "id": "lKDuCJLab0xm",
        "outputId": "84c3745f-0598-401a-eaa1-5f0eaeebf0f5"
      },
      "source": [
        "train_df['Embarked'].iloc[61] = 'C'\n",
        "train_df['Embarked'].iloc[829] = 'C'"
      ],
      "execution_count": null,
      "outputs": [
        {
          "output_type": "stream",
          "text": [
            "/usr/local/lib/python3.7/dist-packages/pandas/core/indexing.py:670: SettingWithCopyWarning: \n",
            "A value is trying to be set on a copy of a slice from a DataFrame\n",
            "\n",
            "See the caveats in the documentation: https://pandas.pydata.org/pandas-docs/stable/user_guide/indexing.html#returning-a-view-versus-a-copy\n",
            "  iloc._setitem_with_indexer(indexer, value)\n"
          ],
          "name": "stderr"
        }
      ]
    },
    {
      "cell_type": "markdown",
      "metadata": {
        "id": "2X19P3yAcAuC"
      },
      "source": [
        "Filling in missing values: Fare"
      ]
    },
    {
      "cell_type": "code",
      "metadata": {
        "colab": {
          "base_uri": "https://localhost:8080/"
        },
        "id": "B8Els2fHb7fz",
        "outputId": "037a8b7f-33d3-44ff-bb67-7ae0a0ee6634"
      },
      "source": [
        "all_df = pd.concat([train_df.drop('Survived',1), test_df])\n",
        "test_df['Fare'].iloc[152] = all_df['Fare'][all_df['Pclass'] == 3].dropna().median()"
      ],
      "execution_count": null,
      "outputs": [
        {
          "output_type": "stream",
          "text": [
            "/usr/local/lib/python3.7/dist-packages/pandas/core/indexing.py:670: SettingWithCopyWarning: \n",
            "A value is trying to be set on a copy of a slice from a DataFrame\n",
            "\n",
            "See the caveats in the documentation: https://pandas.pydata.org/pandas-docs/stable/user_guide/indexing.html#returning-a-view-versus-a-copy\n",
            "  iloc._setitem_with_indexer(indexer, value)\n"
          ],
          "name": "stderr"
        }
      ]
    },
    {
      "cell_type": "markdown",
      "metadata": {
        "id": "Kco4uN1hcGeA"
      },
      "source": [
        "Filling in missing values: Age"
      ]
    },
    {
      "cell_type": "code",
      "metadata": {
        "id": "an5OdPvucD0b"
      },
      "source": [
        "all_df = pd.concat([train_df.drop('Survived', 1), test_df])\n",
        "titleList = all_df['Title'].unique().tolist()\n",
        "guess_ages_sex_title = np.zeros((2, len(titleList)))\n",
        "guess_ages_sex_pclass = np.zeros((2, 3))\n",
        "\n",
        "for dataset in dfs:\n",
        "    for i in range(0, 2):\n",
        "        for j in range(0, 3):\n",
        "            guess_df = all_df[(all_df['Sex'] == i) & (all_df['Pclass'] == j + 1)]['Age'].dropna()\n",
        "            age_guess = guess_df.median()\n",
        "            guess_ages_sex_pclass[i, j] = int( age_guess / 0.5 + 0.5 ) * 0.5\n",
        "            for title in titleList:\n",
        "                k = titleList.index(title)\n",
        "                guess_df = all_df[(all_df['Title'] == title) & (all_df['Sex'] == i)]['Age'].dropna()\n",
        "                                \n",
        "                age_guess2 = guess_df.median()                \n",
        "                if (age_guess2 != age_guess2):\n",
        "                    age_guess2 = age_guess\n",
        "                \n",
        "                guess_ages_sex_title[i, k] = int(age_guess2 / 0.5 + 0.5) * 0.5\n",
        "    \n",
        "    for i in range(0, 2):\n",
        "        for j in range(0, 3):\n",
        "            for k in range(0, len(titleList)):\n",
        "                dataset.loc[(dataset.Age.isnull()) & (dataset.Title == titleList[k]) & (dataset.Sex == i), 'Age'] = guess_ages_sex_title[i, k]\n",
        "            dataset.loc[(dataset.Age.isnull()) & (dataset.Sex == i) & (dataset.Pclass == j + 1), 'Age'] = guess_ages_sex_pclass[i, j]\n",
        "\n",
        "    dataset['Age'] = dataset['Age'].astype(int)"
      ],
      "execution_count": null,
      "outputs": []
    },
    {
      "cell_type": "markdown",
      "metadata": {
        "id": "UFZxzYOqcqn9"
      },
      "source": [
        "Creating Deck and FamilyName features"
      ]
    },
    {
      "cell_type": "code",
      "metadata": {
        "id": "9WJuePg-cmHo"
      },
      "source": [
        "for dataset in dfs:    \n",
        "    dataset['Deck'] = dataset['Cabin'].str[0]\n",
        "    dataset['FamilyName'] = dataset['Name'].str.split(', ', expand=True)[0]"
      ],
      "execution_count": null,
      "outputs": []
    },
    {
      "cell_type": "code",
      "metadata": {
        "colab": {
          "base_uri": "https://localhost:8080/"
        },
        "id": "EQB4R9v7cvAG",
        "outputId": "4ab4fe14-7ff1-419a-8d10-a5bf43f29bd9"
      },
      "source": [
        "all_df = pd.concat([train_df.drop('Survived', 1),test_df])\n",
        "print('Initial missing Deck values: ', len(all_df.loc[all_df['Deck'].isnull()]))"
      ],
      "execution_count": null,
      "outputs": [
        {
          "output_type": "stream",
          "text": [
            "Initial missing Deck values:  1014\n"
          ],
          "name": "stdout"
        }
      ]
    },
    {
      "cell_type": "markdown",
      "metadata": {
        "id": "sGH8C4fNc_5B"
      },
      "source": [
        "Guessing Deck missing values from the Ticket value"
      ]
    },
    {
      "cell_type": "code",
      "metadata": {
        "colab": {
          "base_uri": "https://localhost:8080/"
        },
        "id": "L9tnaxYSdAPI",
        "outputId": "ee134722-4404-4e5a-ee17-6e88260b2a4b"
      },
      "source": [
        "TicketList = all_df['Ticket'].unique().tolist()\n",
        "for dataset in dfs:    \n",
        "    for ticket in TicketList:\n",
        "        guess_deck = all_df[(all_df['Ticket'] == ticket)]['Deck'].dropna()\n",
        "        if(len(guess_deck.index) > 0):\n",
        "            guess_deck = guess_deck.iloc[0][0]\n",
        "            dataset.loc[(dataset.Deck.isnull()) & (dataset.Ticket == ticket), 'Deck'] = guess_deck\n",
        "all_df = pd.concat([train_df.drop('Survived',1),test_df])\n",
        "print('Missing Deck values after apply shared ticket heuristic: ',len(all_df.loc[all_df['Deck'].isnull()]))"
      ],
      "execution_count": null,
      "outputs": [
        {
          "output_type": "stream",
          "text": [
            "Missing Deck values after apply shared ticket heuristic:  998\n"
          ],
          "name": "stdout"
        }
      ]
    },
    {
      "cell_type": "markdown",
      "metadata": {
        "id": "q_jjGVy8dyy8"
      },
      "source": [
        "Trying to guess Deck missing values using a prediction Model"
      ]
    },
    {
      "cell_type": "code",
      "metadata": {
        "colab": {
          "base_uri": "https://localhost:8080/"
        },
        "id": "36YSuHI5dq1x",
        "outputId": "5befd8ed-fed7-4b61-f316-c62f204a0b48"
      },
      "source": [
        "all_df = pd.concat([train_df,test_df])\n",
        "df = all_df[['Pclass','Fare','Embarked','Deck']]\n",
        "df['Embarked'] = df['Embarked'].map( {'S': 0, 'C': 1, 'Q': 2} ).astype(int)   \n",
        "df1 = df[df['Deck'].notnull()]\n",
        "XDeck_train = df1[['Pclass','Fare','Embarked']]\n",
        "YDeck_train = df1.Deck\n",
        "random_forest = RandomForestClassifier(n_estimators=100)\n",
        "\n",
        "scores = cross_val_score(random_forest, XDeck_train, YDeck_train, cv=5, n_jobs=-1)\n",
        "print('CV score: ',scores.mean())\n",
        "\n",
        "random_forest.fit(XDeck_train, YDeck_train)\n",
        "XDeck_test = df[['Pclass','Fare','Embarked']]\n",
        "YDeck_pred = random_forest.predict(XDeck_test)\n",
        "all_df['DeckPred'] = YDeck_pred\n",
        "all_df.loc[(all_df.Deck.isnull()), 'Deck'] = all_df.loc[(all_df.Deck.isnull()), 'DeckPred']\n",
        "train_df['Deck'] = all_df[ 0:891 ]['Deck']\n",
        "test_df['Deck'] = all_df[ 891: ]['Deck']\n",
        "                \n",
        "all_df = pd.concat([train_df.drop('Survived',1),test_df])\n",
        "print('Missing Deck values: ',len(all_df.loc[all_df['Deck'].isnull()]))"
      ],
      "execution_count": null,
      "outputs": [
        {
          "output_type": "stream",
          "text": [
            "/usr/local/lib/python3.7/dist-packages/ipykernel_launcher.py:3: SettingWithCopyWarning: \n",
            "A value is trying to be set on a copy of a slice from a DataFrame.\n",
            "Try using .loc[row_indexer,col_indexer] = value instead\n",
            "\n",
            "See the caveats in the documentation: https://pandas.pydata.org/pandas-docs/stable/user_guide/indexing.html#returning-a-view-versus-a-copy\n",
            "  This is separate from the ipykernel package so we can avoid doing imports until\n",
            "/usr/local/lib/python3.7/dist-packages/sklearn/model_selection/_split.py:667: UserWarning: The least populated class in y has only 1 members, which is less than n_splits=5.\n",
            "  % (min_groups, self.n_splits)), UserWarning)\n"
          ],
          "name": "stderr"
        },
        {
          "output_type": "stream",
          "text": [
            "CV score:  0.6946236559139785\n",
            "Missing Deck values:  0\n"
          ],
          "name": "stdout"
        }
      ]
    },
    {
      "cell_type": "markdown",
      "metadata": {
        "id": "eN0Up39NeVdM"
      },
      "source": [
        "Creating some new features"
      ]
    },
    {
      "cell_type": "code",
      "metadata": {
        "id": "h65c36LeeIFh"
      },
      "source": [
        "all_df = pd.concat([train_df.drop('Survived', 1), test_df])\n",
        "\n",
        "for dataset in dfs:    \n",
        "    simplify_fares(dataset)\n",
        "    simplify_age(dataset)\n",
        "    dataset['Child'] = dataset['Age'] <= 10\n",
        "    dataset['MedianAge'] = (dataset['Age'] >= 18) & (dataset['Age'] <= 40)\n",
        "    dataset['Young_m'] = (dataset['Age'] >= 18) & (dataset['Age'] <= 40) & (dataset['Sex'] == 0)\n",
        "    dataset['Young_f'] = (dataset['Age'] >= 18) & (dataset['Age'] <= 40) & (dataset['Sex'] == 1)\n",
        "    dataset['Family'] = dataset['SibSp'] + dataset['Parch']\n",
        "    dataset['Alone']  = (dataset['SibSp'] + dataset['Parch']) == 0\n",
        "    dataset['Cabin_known'] = dataset['Cabin'].isnull() == False\n",
        "    dataset['Cabin_known'] = dataset['Cabin_known'].astype('int')    \n",
        "    dataset['Ttype'] = dataset['Ticket'].str[0]\n",
        "    dataset['Ttype2'] = dataset['Ticket'].map(clean_ticket)    \n",
        "    dataset['Bad_ticket'] = dataset['Ttype'].isin(['3','4','5','6','7','8','A','L','W'])\n",
        "    dataset['NameLength'] = dataset['Name'].apply(lambda x: len(x))          \n",
        "    dataset['Ticket_group'] = dataset.groupby('Ticket')['Name'].transform('count')\n",
        "    dataset['Fare_eff'] = dataset['Fare'] / dataset['Ticket_group']\n",
        "    dataset['Shared_ticket'] = 3\n",
        "    for i in range(len(dataset)):\n",
        "        if dataset['Shared_ticket'].iloc[i] == 3:            \n",
        "            if ((len(all_df.groupby('Ticket').get_group(dataset['Ticket'].iloc[i]))) > 1 ):\n",
        "                dataset.loc[dataset['Ticket'] == dataset['Ticket'].iloc[i], 'Shared_ticket'] = 1\n",
        "            else:\n",
        "                dataset.loc[dataset['Ticket'] == dataset['Ticket'].iloc[i], 'Shared_ticket'] = 0\n",
        "    \n",
        "    dataset['Young'] = (dataset['Age'] <= 20) | (dataset['Title'].isin(['Master','Miss','Mlle','Mme']))\n",
        "\n",
        "    dataset['FareBand'] = 0\n",
        "    dataset.loc[ dataset['Fare'] <= 7.91, 'FareBand'] = 0\n",
        "    dataset.loc[(dataset['Fare'] > 7.91) & (dataset['Fare'] <= 14.454), 'FareBand'] = 1\n",
        "    dataset.loc[(dataset['Fare'] > 14.454) & (dataset['Fare'] <= 31), 'FareBand']   = 2\n",
        "    dataset.loc[ dataset['Fare'] > 31, 'FareBand'] = 3\n",
        "    dataset['Fare'] = dataset['Fare'].astype(int)\n",
        "\n",
        "    dataset['AgeBand'] = 0\n",
        "    dataset.loc[ dataset['Age'] <= 16, 'AgeBand'] = 0\n",
        "    dataset.loc[(dataset['Age'] > 16) & (dataset['Age'] <= 32), 'AgeBand'] = 1\n",
        "    dataset.loc[(dataset['Age'] > 32) & (dataset['Age'] <= 48), 'AgeBand'] = 2\n",
        "    dataset.loc[(dataset['Age'] > 48) & (dataset['Age'] <= 64), 'AgeBand'] = 3\n",
        "    dataset.loc[ dataset['Age'] > 64, 'AgeBand'] = 4    \n",
        "    \n",
        "Title_Dictionary = {\n",
        "                    \"Capt\":       \"Officer\",\n",
        "                    \"Col\":        \"Officer\",\n",
        "                    \"Major\":      \"Officer\",\n",
        "                    \"Jonkheer\":   \"Royalty\",\n",
        "                    \"Don\":        \"Royalty\",\n",
        "                    \"Sir\" :       \"Royalty\",\n",
        "                    \"Dr\":         \"Officer\",\n",
        "                    \"Rev\":        \"Officer\",\n",
        "                    \"the Countess\":\"Royalty\",\n",
        "                    \"Dona\":       \"Royalty\",\n",
        "                    \"Mme\":        \"Mrs\",\n",
        "                    \"Mlle\":       \"Miss\",\n",
        "                    \"Ms\":         \"Mrs\",\n",
        "                    \"Mr\" :        \"Mr\",\n",
        "                    \"Mrs\" :       \"Mrs\",\n",
        "                    \"Miss\" :      \"Miss\",\n",
        "                    \"Master\" :    \"Master\",\n",
        "                    \"Lady\" :      \"Royalty\"\n",
        "}\n",
        "\n",
        "for dataset in dfs:      \n",
        "    dataset[ 'Title' ] = dataset.Title.map( Title_Dictionary )\n",
        "    title_mapping = {'Mr': 1, 'Miss': 2, 'Mrs': 3, 'Master': 4, 'Officer': 5, 'Royalty': 6}    \n",
        "    dataset['Title'] = dataset['Title'].map(title_mapping)\n",
        "    dataset['Title'] = dataset['Title'].fillna(0)\n",
        "    dataset['Title'] = dataset['Title'].astype(int)    \n",
        "    dataset['Ttype'] = dataset['Ttype'].map( {'1': 1, '2': 2, '3': 3, '4': 4,'5': 5,'6': 6, '7': 7, '8': 8,'9': 9,'A': 10, 'C': 11, 'F': 12,'L': 13, 'P': 14, 'S': 15,'W': 16} ).astype(int)    \n",
        "    dataset['Embarked'] = dataset['Embarked'].map( {'S': 0, 'C': 1, 'Q': 2} ).astype(int)    \n",
        "    dataset['Deck'] = dataset['Deck'].map( {'U': 0, 'C': 1, 'E': 2,'G': 3, 'D': 4, 'A': 5,'B': 6, 'F': 7, 'T': 8} ).astype(int)    \n",
        "    for col in dataset.columns:\n",
        "        if(dataset[col].dtype == 'bool'):\n",
        "            dataset[col] = dataset[col].astype(int)"
      ],
      "execution_count": null,
      "outputs": []
    },
    {
      "cell_type": "code",
      "metadata": {
        "id": "XsDkeOX_eyee"
      },
      "source": [
        "train_df, test_df = encode_features(train_df, test_df, ['FamilyName', 'AgeBins', 'FareBins', 'Ttype2'])"
      ],
      "execution_count": null,
      "outputs": []
    },
    {
      "cell_type": "code",
      "metadata": {
        "colab": {
          "base_uri": "https://localhost:8080/"
        },
        "id": "rvn_SAdJfFWx",
        "outputId": "06a78246-2695-43a6-f2eb-f08e85f56e0b"
      },
      "source": [
        "selCols = []\n",
        "\n",
        "for col in test_df.columns:\n",
        "    if(test_df[col].dtype == 'int64' or test_df[col].dtype == 'float64' or test_df[col].dtype == 'uint8'):\n",
        "        selCols.append(col)        \n",
        "\n",
        "if 'PassengerId' in selCols: selCols.remove('PassengerId')\n",
        "if 'Survived' in selCols: selCols.remove('Survived')\n",
        "\n",
        "train_df = train_df.loc[:,selCols+['Survived']]\n",
        "test_df = test_df.loc[:,selCols+['PassengerId']]\n",
        "train_df.head()\n",
        "\n",
        "print('Number of selected cols ', len(selCols), ' :',selCols)\n",
        "print()\n",
        "all_df = pd.concat([train_df,test_df])\n",
        "print(all_df.describe())"
      ],
      "execution_count": null,
      "outputs": [
        {
          "output_type": "stream",
          "text": [
            "Number of selected cols  30  : ['Pclass', 'Sex', 'Age', 'SibSp', 'Parch', 'Fare', 'Embarked', 'Title', 'Age_known', 'Deck', 'FamilyName', 'FareBins', 'AgeBins', 'Child', 'MedianAge', 'Young_m', 'Young_f', 'Family', 'Alone', 'Cabin_known', 'Ttype', 'Ttype2', 'Bad_ticket', 'NameLength', 'Ticket_group', 'Fare_eff', 'Shared_ticket', 'Young', 'FareBand', 'AgeBand']\n",
            "\n",
            "            Pclass          Sex  ...    Survived  PassengerId\n",
            "count  1309.000000  1309.000000  ...  891.000000   418.000000\n",
            "mean      2.294882     0.355997  ...    0.383838  1100.500000\n",
            "std       0.837836     0.478997  ...    0.486592   120.810458\n",
            "min       1.000000     0.000000  ...    0.000000   892.000000\n",
            "25%       2.000000     0.000000  ...    0.000000   996.250000\n",
            "50%       3.000000     0.000000  ...    0.000000  1100.500000\n",
            "75%       3.000000     1.000000  ...    1.000000  1204.750000\n",
            "max       3.000000     1.000000  ...    1.000000  1309.000000\n",
            "\n",
            "[8 rows x 32 columns]\n"
          ],
          "name": "stdout"
        }
      ]
    },
    {
      "cell_type": "markdown",
      "metadata": {
        "id": "0vayiteafhiP"
      },
      "source": [
        "### Model Training"
      ]
    },
    {
      "cell_type": "markdown",
      "metadata": {
        "id": "vtcczDK8hFfx"
      },
      "source": [
        "1. RandomForest"
      ]
    },
    {
      "cell_type": "code",
      "metadata": {
        "colab": {
          "base_uri": "https://localhost:8080/"
        },
        "id": "8NMNtECtffa9",
        "outputId": "5909c704-2885-4848-b9f1-4040e3fabe2a"
      },
      "source": [
        "colsRF =  ['Pclass', 'Sex', 'Embarked', 'Title', 'Age_known', 'Deck', 'FareBins', 'AgeBins', 'Alone', 'Ttype', 'Ttype2', 'NameLength', 'Young']\n",
        "tcols = np.append(['Survived'], colsRF)\n",
        "df = train_df.loc[:, tcols].dropna()\n",
        "X_train = df.loc[:, colsRF]\n",
        "Y_train = np.ravel(df.loc[:, ['Survived']])\n",
        "\n",
        "model = RandomForestClassifier(n_estimators=100)\n",
        "scores = cross_val_score(model, X_train, Y_train, cv=5, n_jobs=-1)\n",
        "cv_rf_score = scores.mean()\n",
        "\n",
        "print('RF CV score: ',scores.mean())\n",
        "model.fit( X_train , Y_train )\n",
        "print('Training score: ',model.score(X_train, Y_train))"
      ],
      "execution_count": null,
      "outputs": [
        {
          "output_type": "stream",
          "text": [
            "RF CV score:  0.8024668884564686\n",
            "Training score:  0.9842873176206509\n"
          ],
          "name": "stdout"
        }
      ]
    },
    {
      "cell_type": "markdown",
      "metadata": {
        "id": "KX5luOXbhH0I"
      },
      "source": [
        "2. K-Nearest Neighbour (KNN)"
      ]
    },
    {
      "cell_type": "code",
      "metadata": {
        "colab": {
          "base_uri": "https://localhost:8080/"
        },
        "id": "o0HGtSNzhLxu",
        "outputId": "e63138b6-b505-49ed-c2d5-efb96da436e7"
      },
      "source": [
        "colsRF =  ['Pclass', 'Sex', 'Embarked', 'Title', 'Age_known', 'Deck', 'FareBins', 'AgeBins', 'Alone', 'Ttype', 'Ttype2', 'NameLength', 'Young']\n",
        "tcols = np.append(['Survived'], colsRF)\n",
        "df = train_df.loc[:, tcols].dropna()\n",
        "X_train = df.loc[:, colsRF]\n",
        "Y_train = np.ravel(df.loc[:, ['Survived']])\n",
        "model = KNeighborsClassifier(n_neighbors=5)\n",
        "scores = cross_val_score(model, X_train, Y_train, cv=5, n_jobs=-1)\n",
        "cv_knn_score = scores.mean()\n",
        "\n",
        "print('KNN CV score: ',scores.mean())\n",
        "model.fit( X_train , Y_train )\n",
        "print('Training score: ',model.score(X_train, Y_train))"
      ],
      "execution_count": null,
      "outputs": [
        {
          "output_type": "stream",
          "text": [
            "KNN CV score:  0.7239219132508945\n",
            "Training score:  0.797979797979798\n"
          ],
          "name": "stdout"
        }
      ]
    },
    {
      "cell_type": "markdown",
      "metadata": {
        "id": "Ga2zJrmHhmT1"
      },
      "source": [
        "3. Support Vector Machine"
      ]
    },
    {
      "cell_type": "code",
      "metadata": {
        "colab": {
          "base_uri": "https://localhost:8080/"
        },
        "id": "UGS_i2BuhZpp",
        "outputId": "c82a0d0e-c5c1-4f80-9f22-acd3d688a076"
      },
      "source": [
        "colsRF =  ['Pclass', 'Sex', 'Embarked', 'Title', 'Age_known', 'Deck', 'FareBins', 'AgeBins', 'Alone', 'Ttype', 'Ttype2', 'NameLength', 'Young']\n",
        "tcols = np.append(['Survived'], colsRF)\n",
        "df = train_df.loc[:, tcols].dropna()\n",
        "X_train = df.loc[:, colsRF]\n",
        "Y_train = np.ravel(df.loc[:, ['Survived']])\n",
        "scaler = preprocessing.StandardScaler().fit(X_train)    \n",
        "X_train = scaler.transform(X_train)\n",
        "\n",
        "model = SVC(kernel='rbf')\n",
        "scores = cross_val_score(model, X_train, Y_train, cv=5, n_jobs=-1)\n",
        "cv_svm_score = scores.mean()\n",
        "\n",
        "print('SVM CV score: ', scores.mean())\n",
        "model.fit( X_train , Y_train )\n",
        "print('Training score: ', model.score(X_train, Y_train))"
      ],
      "execution_count": null,
      "outputs": [
        {
          "output_type": "stream",
          "text": [
            "SVM CV score:  0.8148138848785387\n",
            "Training score:  0.8507295173961841\n"
          ],
          "name": "stdout"
        }
      ]
    },
    {
      "cell_type": "markdown",
      "metadata": {
        "id": "UqQiw9tSihhc"
      },
      "source": [
        "### Implementing SVM with Genetic Algorithm"
      ]
    },
    {
      "cell_type": "code",
      "metadata": {
        "id": "oF1bE-AMh1_p"
      },
      "source": [
        "cols = selCols\n",
        "training = pd.concat([train_df])"
      ],
      "execution_count": null,
      "outputs": []
    },
    {
      "cell_type": "markdown",
      "metadata": {
        "id": "ebcII-ZrjRR9"
      },
      "source": [
        "Random generator of SVM parameter C"
      ]
    },
    {
      "cell_type": "code",
      "metadata": {
        "id": "GaV76RqcjOpo"
      },
      "source": [
        "def getC():\n",
        "  r = rnd.random()\n",
        "  r2 = rnd.randint(0, 2)\n",
        "  C = r + r2 + 0.000000001 \n",
        "\n",
        "  return C"
      ],
      "execution_count": null,
      "outputs": []
    },
    {
      "cell_type": "markdown",
      "metadata": {
        "id": "C43tnh72jg_l"
      },
      "source": [
        "Random generator of SVM parameter Gamma"
      ]
    },
    {
      "cell_type": "code",
      "metadata": {
        "id": "epJ1zasijfJT"
      },
      "source": [
        "def getGamma():\n",
        "  r = rnd.random()\n",
        "  r2 = rnd.randint(0, 3)\n",
        "  gamma = 0.000000001 + (r / (10**r2))\n",
        "\n",
        "  return gamma"
      ],
      "execution_count": null,
      "outputs": []
    },
    {
      "cell_type": "markdown",
      "metadata": {
        "id": "ECZ-mChBjvEA"
      },
      "source": [
        "Random generator of SVM Kernel"
      ]
    },
    {
      "cell_type": "code",
      "metadata": {
        "id": "AH3E9JP4jtLL"
      },
      "source": [
        "def getKernel():\n",
        "    kernels = ['rbf', 'linear', 'svcLinear']\n",
        "    index = rnd.randint(0, len(kernels) - 1)   \n",
        "    kernel = kernels[index]\n",
        "\n",
        "    return kernel"
      ],
      "execution_count": null,
      "outputs": []
    },
    {
      "cell_type": "code",
      "metadata": {
        "colab": {
          "base_uri": "https://localhost:8080/"
        },
        "id": "V76OmGJJj1xi",
        "outputId": "04dc5f7e-089d-4b51-e27c-832ca2bcd911"
      },
      "source": [
        "creator.create('FitnessMax', base.Fitness, weights=(1.0,))\n",
        "creator.create('Individual', list, fitness=creator.FitnessMax)\n",
        "\n",
        "toolbox = base.Toolbox()\n",
        "toolbox.register('attribute_bool', rnd.randint, 0, 1)\n",
        "toolbox.register('attribute_C', getC)\n",
        "toolbox.register('attribute_Gamma', getGamma)\n",
        "toolbox.register('attribute_Kernel', getKernel)"
      ],
      "execution_count": null,
      "outputs": [
        {
          "output_type": "stream",
          "text": [
            "/usr/local/lib/python3.7/dist-packages/deap/creator.py:141: RuntimeWarning: A class named 'FitnessMax' has already been created and it will be overwritten. Consider deleting previous creation of that class or rename it.\n",
            "  RuntimeWarning)\n",
            "/usr/local/lib/python3.7/dist-packages/deap/creator.py:141: RuntimeWarning: A class named 'Individual' has already been created and it will be overwritten. Consider deleting previous creation of that class or rename it.\n",
            "  RuntimeWarning)\n"
          ],
          "name": "stderr"
        }
      ]
    },
    {
      "cell_type": "code",
      "metadata": {
        "colab": {
          "base_uri": "https://localhost:8080/"
        },
        "id": "ZaMTh74ikYtx",
        "outputId": "740ab7fa-550c-4d2d-ef9a-3b16045f3f0c"
      },
      "source": [
        "function_sequence = [toolbox.attribute_C, toolbox.attribute_Gamma, toolbox.attribute_Kernel]\n",
        "\n",
        "for column in cols:\n",
        "  function_sequence.append(toolbox.attribute_bool)\n",
        "\n",
        "toolbox.register('individual', tools.initCycle, creator.Individual, function_sequence, 1)\n",
        "toolbox.register('population', tools.initRepeat, list, toolbox.individual)\n",
        "print('Individual size: ', len(function_sequence))"
      ],
      "execution_count": null,
      "outputs": [
        {
          "output_type": "stream",
          "text": [
            "Individual size:  33\n"
          ],
          "name": "stdout"
        }
      ]
    },
    {
      "cell_type": "code",
      "metadata": {
        "id": "Wze-j0SFk-ia"
      },
      "source": [
        "def getModel(individual):\n",
        "  kernel = individual[2]\n",
        "  \n",
        "  if kernel == 'svcLinear':\n",
        "    clf = LinearSVC(C=individual[0])\n",
        "  elif kernel == 'rbf':\n",
        "    clf = SVC(kernel=kernel, C=individual[0], gamma=individual[1])\n",
        "  else:\n",
        "    clf = SVC(kernel=kernel, C=individual[0])\n",
        "\n",
        "  return clf"
      ],
      "execution_count": null,
      "outputs": []
    },
    {
      "cell_type": "code",
      "metadata": {
        "id": "Fikj1sBwmCVE"
      },
      "source": [
        "def getXy(individual):\n",
        "  scols = list(cols)\n",
        "\n",
        "  for i in range(len(individual[3:])):\n",
        "    if individual[3 + i] < 1:\n",
        "      scols.remove(cols[i])\n",
        "  \n",
        "  tcols = np.append(['Survived'], scols)\n",
        "  df = training.loc[:, tcols].dropna()\n",
        "  X = df.loc[:, scols]\n",
        "  scaler = preprocessing.StandardScaler().fit(X)\n",
        "  X = scaler.transform(X)\n",
        "  y = np.ravel(df.loc[:,['Survived']])\n",
        "  return [X, y, scols, scaler]"
      ],
      "execution_count": null,
      "outputs": []
    },
    {
      "cell_type": "code",
      "metadata": {
        "id": "-5t3beX1mtpC"
      },
      "source": [
        "def evalOneMax(individual):\n",
        "    clf = getModel(individual)\n",
        "    Xy = getXy(individual)\n",
        "    scores = cross_val_score(clf, Xy[0], Xy[1], cv=5, n_jobs=-1)\n",
        "    res1 = scores.mean(),\n",
        "    \n",
        "    return res1"
      ],
      "execution_count": null,
      "outputs": []
    },
    {
      "cell_type": "code",
      "metadata": {
        "id": "zEB3LJp1m0p6"
      },
      "source": [
        "def myMutate(individual, indpb=0.05):\n",
        "    #C\n",
        "    if rnd.random() < indpb:\n",
        "        individual[0] = toolbox.attribute_C()\n",
        "    #Gamma\n",
        "    if rnd.random() < indpb:\n",
        "        individual[1] = toolbox.attribute_Gamma()\n",
        "    #Kernel\n",
        "    if rnd.random() < indpb:\n",
        "        individual[2] = toolbox.attribute_Kernel()\n",
        "    #features\n",
        "    for i in range(len(individual[3:])):\n",
        "        if rnd.random() < indpb:\n",
        "            individual[3+i] = toolbox.attribute_bool()"
      ],
      "execution_count": null,
      "outputs": []
    },
    {
      "cell_type": "code",
      "metadata": {
        "id": "I5oP0k4RnMcN"
      },
      "source": [
        "toolbox.register('evaluate', evalOneMax)\n",
        "toolbox.register('mate', tools.cxTwoPoint)\n",
        "toolbox.register('mutate', myMutate, indpb=0.15)\n",
        "toolbox.register('select', tools.selTournament, tournsize=3)\n",
        "rnd.seed(66)"
      ],
      "execution_count": null,
      "outputs": []
    },
    {
      "cell_type": "code",
      "metadata": {
        "id": "xpAcMGoBpfya"
      },
      "source": [
        "CXPB, MUTPB, NGEN, POPSIZE = 0.5, 0.2, 40, 100\n",
        "pop = toolbox.population(n=POPSIZE) "
      ],
      "execution_count": null,
      "outputs": []
    },
    {
      "cell_type": "code",
      "metadata": {
        "colab": {
          "base_uri": "https://localhost:8080/"
        },
        "id": "hOVOwACTphDW",
        "outputId": "08886ccb-0094-4fa0-d75a-8abc70c41380"
      },
      "source": [
        "print(\"Start of evolution SVM\")\n",
        "\n",
        "fitnesses = list(map(toolbox.evaluate, pop))\n",
        "for ind, fit in zip(pop, fitnesses):\n",
        "    ind.fitness.values = fit\n",
        "\n",
        "print(\"  Evaluated %i individuals\" % len(pop))\n",
        "\n",
        "for g in range(NGEN):\n",
        "    print(\"-- Generation %i --\" % g)\n",
        "    \n",
        "    offspring = toolbox.select(pop, len(pop))\n",
        "    offspring = list(map(toolbox.clone, offspring))\n",
        "\n",
        "    for child1, child2 in zip(offspring[::2], offspring[1::2]):\n",
        "\n",
        "        if rnd.random() < CXPB:\n",
        "            c1 = toolbox.clone(child1)\n",
        "            c2 = toolbox.clone(child2)\n",
        "            toolbox.mate(child1, child2)\n",
        "            if c1!=child1: del child1.fitness.values\n",
        "            if c2!=child2: del child2.fitness.values\n",
        "\n",
        "    for mutant in offspring:\n",
        "\n",
        "        if rnd.random() < MUTPB:\n",
        "            m1 = toolbox.clone(mutant)\n",
        "            toolbox.mutate(mutant)\n",
        "            if m1!=mutant: del mutant.fitness.values\n",
        "\n",
        "    invalid_ind = [ind for ind in offspring if not ind.fitness.valid]\n",
        "    fitnesses = map(toolbox.evaluate, invalid_ind)\n",
        "    for ind, fit in zip(invalid_ind, fitnesses):\n",
        "        ind.fitness.values = fit\n",
        "    \n",
        "    print(\"  Evaluated %i individuals\" % len(invalid_ind))\n",
        "    \n",
        "    pop[:] = offspring\n",
        "    \n",
        "    fits = [ind.fitness.values[0] for ind in pop]\n",
        "    \n",
        "    length = len(pop)\n",
        "    mean = sum(fits) / length\n",
        "    sum2 = sum(x*x for x in fits)\n",
        "    std = abs(sum2 / length - mean**2)**0.5\n",
        "    best_ind = tools.selBest(pop, POPSIZE)[0]\n",
        "    print(\"Best individual is %s, %s\" % (best_ind, best_ind.fitness.values))        \n",
        "    print(\"  Min %s\" % min(fits))\n",
        "    print(\"  Max %s\" % max(fits))\n",
        "    print(\"  Avg %s\" % mean)\n",
        "    print(\"  Std %s\" % std)\n",
        "\n",
        "print(\"-- End of (successful) evolution --\")\n",
        "\n",
        "best_ind = tools.selBest(pop, POPSIZE)[0]\n",
        "print(\"Best individual is %s, %s\" % (best_ind, best_ind.fitness.values))"
      ],
      "execution_count": null,
      "outputs": [
        {
          "output_type": "stream",
          "text": [
            "Start of evolution SVM\n",
            "  Evaluated 100 individuals\n",
            "-- Generation 0 --\n",
            "  Evaluated 54 individuals\n",
            "Best individual is [1.029113730790076, 0.03703743006393346, 'rbf', 1, 1, 0, 1, 0, 0, 1, 0, 1, 0, 1, 1, 1, 1, 0, 0, 0, 0, 0, 1, 0, 1, 1, 0, 0, 1, 0, 0, 0, 1], (0.8260121775155358,)\n",
            "  Min 0.6722867365513778\n",
            "  Max 0.8260121775155358\n",
            "  Avg 0.7998783503860402\n",
            "  Std 0.023135989681699165\n",
            "-- Generation 1 --\n",
            "  Evaluated 54 individuals\n",
            "Best individual is [1.657360108916588, 0.02437966485020074, 'rbf', 0, 1, 1, 1, 0, 0, 0, 0, 0, 0, 0, 0, 1, 0, 0, 0, 0, 1, 0, 1, 0, 1, 1, 0, 0, 0, 1, 1, 0, 1], (0.8271357730211537,)\n",
            "  Min 0.7520243550310715\n",
            "  Max 0.8271357730211537\n",
            "  Avg 0.8115238842508316\n",
            "  Std 0.013389528272698811\n",
            "-- Generation 2 --\n",
            "  Evaluated 50 individuals\n",
            "Best individual is [0.5880409572959077, 0.0009302427369007562, 'linear', 1, 1, 1, 1, 0, 1, 1, 0, 0, 1, 1, 1, 0, 1, 0, 1, 1, 0, 0, 0, 1, 0, 0, 1, 1, 1, 1, 1, 0, 1], (0.8305065595380077,)\n",
            "  Min 0.7340468269411838\n",
            "  Max 0.8305065595380077\n",
            "  Avg 0.8149322076454715\n",
            "  Std 0.013523339108813964\n",
            "-- Generation 3 --\n",
            "  Evaluated 59 individuals\n",
            "Best individual is [1.029113730790076, 0.03703743006393346, 'rbf', 1, 1, 0, 1, 0, 0, 1, 1, 1, 0, 1, 1, 1, 1, 0, 0, 0, 1, 1, 0, 1, 1, 1, 1, 1, 0, 1, 0, 0, 1], (0.8305128366078713,)\n",
            "  Min 0.7194651936476053\n",
            "  Max 0.8305128366078713\n",
            "  Avg 0.8158983742389058\n",
            "  Std 0.016627130486090592\n",
            "-- Generation 4 --\n",
            "  Evaluated 50 individuals\n",
            "Best individual is [1.029113730790076, 0.03703743006393346, 'rbf', 1, 1, 0, 0, 0, 1, 1, 1, 1, 0, 1, 0, 1, 0, 1, 1, 1, 1, 0, 0, 0, 1, 0, 1, 1, 1, 0, 1, 0, 1], (0.8349946644906158,)\n",
            "  Min 0.617287050404871\n",
            "  Max 0.8349946644906158\n",
            "  Avg 0.8194875400163205\n",
            "  Std 0.021968382649575208\n",
            "-- Generation 5 --\n",
            "  Evaluated 65 individuals\n",
            "Best individual is [1.029113730790076, 0.03703743006393346, 'rbf', 1, 1, 1, 1, 0, 1, 1, 0, 0, 0, 0, 0, 0, 0, 0, 1, 1, 0, 1, 0, 0, 1, 0, 1, 1, 1, 1, 0, 0, 1], (0.8338710689849979,)\n",
            "  Min 0.6161634548992531\n",
            "  Max 0.8338710689849979\n",
            "  Avg 0.8201318184671398\n",
            "  Std 0.022596666408917426\n",
            "-- Generation 6 --\n",
            "  Evaluated 51 individuals\n",
            "Best individual is [2.009539296279243, 0.03703743006393346, 'rbf', 1, 1, 1, 1, 0, 1, 1, 0, 1, 0, 1, 1, 0, 1, 0, 0, 0, 1, 0, 1, 0, 1, 1, 0, 0, 0, 0, 1, 0, 1], (0.8338899001945892,)\n",
            "  Min 0.7374427217374929\n",
            "  Max 0.8338899001945892\n",
            "  Avg 0.8225446613520812\n",
            "  Std 0.012686764221127423\n",
            "-- Generation 7 --\n",
            "  Evaluated 58 individuals\n",
            "Best individual is [2.009539296279243, 0.03703743006393346, 'rbf', 1, 1, 1, 1, 0, 1, 1, 0, 1, 0, 1, 1, 0, 1, 0, 0, 0, 1, 0, 1, 0, 1, 1, 0, 0, 0, 0, 1, 0, 1], (0.8338899001945892,)\n",
            "  Min 0.7957064842131694\n",
            "  Max 0.8338899001945892\n",
            "  Avg 0.8267287678111862\n",
            "  Std 0.00570506333873759\n",
            "-- Generation 8 --\n",
            "  Evaluated 45 individuals\n",
            "Best individual is [2.922008318653282, 0.03703743006393346, 'rbf', 1, 1, 1, 1, 0, 1, 1, 1, 1, 0, 0, 0, 1, 1, 0, 1, 0, 0, 1, 0, 0, 1, 0, 1, 1, 1, 1, 0, 0, 1], (0.8361245370660976,)\n",
            "  Min 0.6161634548992531\n",
            "  Max 0.8361245370660976\n",
            "  Avg 0.8248667378067921\n",
            "  Std 0.023334053877794882\n",
            "-- Generation 9 --\n",
            "  Evaluated 56 individuals\n",
            "Best individual is [2.922008318653282, 0.03703743006393346, 'rbf', 1, 1, 1, 1, 0, 1, 1, 1, 1, 0, 0, 0, 1, 1, 0, 1, 0, 0, 1, 0, 0, 1, 0, 1, 1, 1, 1, 0, 0, 1], (0.8361245370660976,)\n",
            "  Min 0.6823426024731656\n",
            "  Max 0.8361245370660976\n",
            "  Avg 0.8270077835666315\n",
            "  Std 0.018353452235419458\n",
            "-- Generation 10 --\n",
            "  Evaluated 52 individuals\n",
            "Best individual is [1.029113730790076, 0.03703743006393346, 'rbf', 1, 1, 1, 0, 0, 0, 1, 1, 1, 0, 1, 0, 0, 1, 0, 0, 0, 1, 0, 0, 0, 1, 1, 0, 1, 0, 0, 0, 0, 1], (0.8361245370660976,)\n",
            "  Min 0.73297972506434\n",
            "  Max 0.8361245370660976\n",
            "  Avg 0.8287376184796941\n",
            "  Std 0.012796772357836786\n",
            "-- Generation 11 --\n",
            "  Evaluated 52 individuals\n",
            "Best individual is [2.009539296279243, 0.03703743006393346, 'rbf', 1, 1, 1, 1, 0, 1, 1, 0, 0, 1, 0, 0, 1, 1, 0, 0, 0, 1, 1, 0, 1, 0, 1, 1, 1, 0, 0, 0, 0, 1], (0.8383466197978784,)\n",
            "  Min 0.7363002950222837\n",
            "  Max 0.8383466197978784\n",
            "  Avg 0.8293207582700401\n",
            "  Std 0.013452222105398893\n",
            "-- Generation 12 --\n",
            "  Evaluated 50 individuals\n",
            "Best individual is [2.009539296279243, 0.03703743006393346, 'rbf', 1, 1, 1, 1, 0, 1, 1, 0, 0, 1, 0, 0, 1, 1, 0, 0, 0, 1, 1, 0, 1, 0, 1, 1, 1, 0, 0, 0, 0, 1], (0.8383466197978784,)\n",
            "  Min 0.7755068733915008\n",
            "  Max 0.8383466197978784\n",
            "  Avg 0.8305090075952551\n",
            "  Std 0.008619688102468496\n",
            "-- Generation 13 --\n",
            "  Evaluated 54 individuals\n",
            "Best individual is [1.029113730790076, 0.03703743006393346, 'rbf', 1, 1, 1, 1, 0, 1, 1, 0, 0, 0, 0, 0, 1, 1, 0, 0, 1, 1, 1, 0, 1, 1, 1, 0, 1, 0, 1, 1, 0, 1], (0.8372481325717157,)\n",
            "  Min 0.7541648358546229\n",
            "  Max 0.8372481325717157\n",
            "  Avg 0.830229740757015\n",
            "  Std 0.010941738552286312\n",
            "-- Generation 14 --\n",
            "  Evaluated 53 individuals\n",
            "Best individual is [1.657360108916588, 0.02437966485020074, 'rbf', 1, 1, 1, 1, 0, 1, 1, 0, 1, 0, 1, 1, 1, 1, 0, 0, 0, 1, 1, 0, 1, 1, 1, 0, 1, 0, 1, 1, 0, 1], (0.8372418555018518,)\n",
            "  Min 0.744209403050656\n",
            "  Max 0.8372418555018518\n",
            "  Avg 0.8302763793861031\n",
            "  Std 0.010610876649858601\n",
            "-- Generation 15 --\n",
            "  Evaluated 45 individuals\n",
            "Best individual is [1.657360108916588, 0.02437966485020074, 'rbf', 1, 1, 1, 1, 0, 1, 1, 0, 1, 0, 1, 1, 1, 1, 0, 0, 0, 1, 1, 0, 1, 1, 1, 0, 1, 0, 1, 1, 0, 1], (0.8372418555018518,)\n",
            "  Min 0.6161634548992531\n",
            "  Max 0.8372418555018518\n",
            "  Avg 0.8286361182599965\n",
            "  Std 0.024132094032323994\n",
            "-- Generation 16 --\n",
            "  Evaluated 40 individuals\n",
            "Best individual is [1.029113730790076, 0.03703743006393346, 'rbf', 1, 1, 1, 0, 0, 1, 1, 1, 1, 0, 1, 0, 0, 0, 0, 1, 0, 0, 1, 0, 0, 1, 0, 1, 1, 1, 0, 1, 0, 1], (0.8372418555018518,)\n",
            "  Min 0.7251082794551503\n",
            "  Max 0.8372418555018518\n",
            "  Avg 0.8311178833720423\n",
            "  Std 0.014748961011689063\n",
            "-- Generation 17 --\n",
            "  Evaluated 39 individuals\n",
            "Best individual is [1.657360108916588, 0.02437966485020074, 'rbf', 1, 1, 1, 1, 0, 1, 1, 0, 1, 0, 1, 1, 1, 1, 0, 0, 0, 1, 1, 0, 1, 1, 1, 0, 1, 0, 1, 1, 0, 1], (0.8372418555018518,)\n",
            "  Min 0.8103195028560668\n",
            "  Max 0.8372418555018518\n",
            "  Avg 0.8339219760215932\n",
            "  Std 0.0046247735686668155\n",
            "-- Generation 18 --\n",
            "  Evaluated 43 individuals\n",
            "Best individual is [1.029113730790076, 0.03703743006393346, 'rbf', 1, 1, 1, 0, 0, 1, 1, 1, 0, 0, 0, 0, 0, 0, 0, 1, 0, 0, 1, 0, 0, 1, 0, 0, 1, 1, 0, 1, 0, 1], (0.838359173937606,)\n",
            "  Min 0.686880923984684\n",
            "  Max 0.838359173937606\n",
            "  Avg 0.8304205009101757\n",
            "  Std 0.021564346547241278\n",
            "-- Generation 19 --\n",
            "  Evaluated 49 individuals\n",
            "Best individual is [1.029113730790076, 0.03703743006393346, 'rbf', 1, 1, 1, 0, 0, 1, 1, 1, 0, 0, 0, 0, 0, 0, 0, 1, 0, 0, 1, 0, 0, 1, 0, 1, 1, 1, 0, 1, 0, 1], (0.838359173937606,)\n",
            "  Min 0.6206515598518612\n",
            "  Max 0.838359173937606\n",
            "  Avg 0.8314301675977657\n",
            "  Std 0.0227463629400697\n",
            "-- Generation 20 --\n",
            "  Evaluated 42 individuals\n",
            "Best individual is [1.029113730790076, 0.03703743006393346, 'rbf', 1, 1, 1, 0, 0, 1, 1, 1, 0, 0, 1, 0, 0, 0, 0, 1, 0, 0, 1, 0, 0, 1, 0, 1, 1, 1, 0, 1, 0, 1], (0.838359173937606,)\n",
            "  Min 0.6184043688406252\n",
            "  Max 0.838359173937606\n",
            "  Avg 0.8308681187621625\n",
            "  Std 0.02516793741124758\n",
            "-- Generation 21 --\n",
            "  Evaluated 35 individuals\n",
            "Best individual is [1.029113730790076, 0.03703743006393346, 'rbf', 1, 1, 1, 0, 0, 1, 1, 1, 0, 0, 0, 0, 0, 0, 0, 1, 0, 0, 1, 0, 0, 1, 0, 0, 1, 1, 0, 1, 0, 1], (0.838359173937606,)\n",
            "  Min 0.7092712321888142\n",
            "  Max 0.838359173937606\n",
            "  Avg 0.8315204946331058\n",
            "  Std 0.01572155450540563\n",
            "-- Generation 22 --\n",
            "  Evaluated 40 individuals\n",
            "Best individual is [1.029113730790076, 0.03703743006393346, 'rbf', 1, 1, 1, 0, 0, 1, 1, 1, 0, 0, 0, 0, 0, 0, 0, 1, 0, 0, 1, 0, 0, 1, 0, 0, 1, 1, 0, 1, 0, 1], (0.838359173937606,)\n",
            "  Min 0.7833845960705543\n",
            "  Max 0.838359173937606\n",
            "  Avg 0.8336293390245438\n",
            "  Std 0.009319475869086016\n",
            "-- Generation 23 --\n",
            "  Evaluated 27 individuals\n",
            "Best individual is [1.029113730790076, 0.03703743006393346, 'rbf', 1, 1, 1, 0, 0, 1, 1, 1, 0, 0, 0, 0, 0, 0, 0, 1, 0, 0, 1, 0, 0, 1, 0, 0, 1, 1, 0, 1, 0, 1], (0.838359173937606,)\n",
            "  Min 0.7957629778419435\n",
            "  Max 0.838359173937606\n",
            "  Avg 0.8354451070240413\n",
            "  Std 0.0061386800496801616\n",
            "-- Generation 24 --\n",
            "  Evaluated 38 individuals\n",
            "Best individual is [1.029113730790076, 0.03703743006393346, 'rbf', 1, 1, 1, 0, 0, 1, 1, 1, 0, 0, 0, 0, 0, 0, 0, 1, 0, 0, 1, 0, 0, 1, 0, 0, 1, 0, 0, 1, 0, 1], (0.8394827694432239,)\n",
            "  Min 0.7900947837549432\n",
            "  Max 0.8394827694432239\n",
            "  Avg 0.8351412340719352\n",
            "  Std 0.00799515015515683\n",
            "-- Generation 25 --\n",
            "  Evaluated 32 individuals\n",
            "Best individual is [1.029113730790076, 0.03703743006393346, 'rbf', 1, 1, 1, 0, 0, 1, 1, 1, 0, 0, 0, 0, 0, 0, 0, 1, 0, 0, 1, 0, 0, 1, 0, 0, 1, 0, 0, 1, 0, 1], (0.8394827694432239,)\n",
            "  Min 0.7564371351453142\n",
            "  Max 0.8394827694432239\n",
            "  Avg 0.8344324901136142\n",
            "  Std 0.01203458183152358\n",
            "-- Generation 26 --\n",
            "  Evaluated 37 individuals\n",
            "Best individual is [1.029113730790076, 0.03703743006393346, 'rbf', 1, 1, 1, 0, 0, 1, 1, 1, 0, 0, 0, 0, 0, 0, 0, 1, 0, 0, 1, 0, 0, 1, 0, 0, 1, 0, 0, 1, 0, 1], (0.8394827694432239,)\n",
            "  Min 0.8080723118448307\n",
            "  Max 0.8394827694432239\n",
            "  Avg 0.8368000125541388\n",
            "  Std 0.005182960424108715\n",
            "-- Generation 27 --\n",
            "  Evaluated 26 individuals\n",
            "Best individual is [1.029113730790076, 0.03703743006393346, 'rbf', 1, 1, 1, 0, 0, 1, 1, 1, 0, 0, 0, 0, 0, 0, 0, 1, 0, 0, 1, 0, 0, 1, 0, 0, 1, 0, 0, 1, 0, 1], (0.8394827694432239,)\n",
            "  Min 0.8080723118448307\n",
            "  Max 0.8394827694432239\n",
            "  Avg 0.8364857824367575\n",
            "  Std 0.0056547232797965\n",
            "-- Generation 28 --\n",
            "  Evaluated 27 individuals\n",
            "Best individual is [1.029113730790076, 0.03703743006393346, 'rbf', 1, 1, 1, 0, 0, 1, 1, 1, 0, 0, 0, 0, 0, 0, 0, 1, 0, 0, 1, 0, 0, 1, 0, 0, 1, 0, 0, 1, 0, 1], (0.8394827694432239,)\n",
            "  Min 0.6599083547799887\n",
            "  Max 0.8394827694432239\n",
            "  Avg 0.8347570773962706\n",
            "  Std 0.01876951357139747\n",
            "-- Generation 29 --\n",
            "  Evaluated 31 individuals\n",
            "Best individual is [1.029113730790076, 0.03703743006393346, 'rbf', 1, 1, 1, 0, 0, 1, 1, 1, 0, 0, 0, 0, 0, 0, 0, 1, 0, 0, 1, 0, 0, 1, 0, 0, 1, 0, 0, 1, 0, 1], (0.8394827694432239,)\n",
            "  Min 0.7025924298537443\n",
            "  Max 0.8394827694432239\n",
            "  Avg 0.8340962274810109\n",
            "  Std 0.016358666139657852\n",
            "-- Generation 30 --\n",
            "  Evaluated 30 individuals\n",
            "Best individual is [1.029113730790076, 0.03703743006393346, 'rbf', 1, 1, 1, 0, 0, 1, 1, 1, 0, 0, 0, 0, 0, 0, 0, 1, 0, 0, 1, 0, 0, 1, 0, 0, 1, 0, 0, 1, 0, 1], (0.8394827694432239,)\n",
            "  Min 0.7666248195342414\n",
            "  Max 0.8394827694432239\n",
            "  Avg 0.8353988450191442\n",
            "  Std 0.009947992839818072\n",
            "-- Generation 31 --\n",
            "  Evaluated 28 individuals\n",
            "Best individual is [1.029113730790076, 0.03703743006393346, 'rbf', 1, 1, 1, 0, 0, 1, 1, 1, 0, 0, 0, 0, 0, 0, 0, 1, 0, 0, 1, 0, 0, 1, 0, 0, 1, 0, 0, 1, 0, 1], (0.8394827694432239,)\n",
            "  Min 0.6161634548992531\n",
            "  Max 0.8394827694432239\n",
            "  Avg 0.8344896114493744\n",
            "  Std 0.023298505828417287\n",
            "-- Generation 32 --\n",
            "  Evaluated 18 individuals\n",
            "Best individual is [1.029113730790076, 0.03703743006393346, 'rbf', 1, 1, 1, 0, 0, 1, 1, 1, 0, 0, 0, 0, 0, 0, 0, 1, 0, 0, 1, 0, 0, 1, 0, 0, 1, 0, 0, 1, 0, 1], (0.8394827694432239,)\n",
            "  Min 0.7968614650681063\n",
            "  Max 0.8394827694432239\n",
            "  Avg 0.8374637499215356\n",
            "  Std 0.006899602113500235\n",
            "-- Generation 33 --\n",
            "  Evaluated 19 individuals\n",
            "Best individual is [1.029113730790076, 0.03703743006393346, 'rbf', 1, 1, 1, 0, 0, 1, 1, 1, 0, 0, 0, 0, 0, 0, 0, 1, 0, 0, 1, 0, 0, 1, 0, 0, 1, 0, 0, 1, 0, 1], (0.8394827694432239,)\n",
            "  Min 0.7474985876592806\n",
            "  Max 0.8394827694432239\n",
            "  Avg 0.8354442282342592\n",
            "  Std 0.012500127164150618\n",
            "-- Generation 34 --\n",
            "  Evaluated 23 individuals\n",
            "Best individual is [1.029113730790076, 0.03703743006393346, 'rbf', 1, 1, 1, 0, 0, 1, 1, 1, 0, 0, 0, 0, 0, 0, 0, 1, 0, 0, 1, 0, 0, 1, 0, 0, 1, 0, 0, 1, 0, 1], (0.8394827694432239,)\n",
            "  Min 0.7833971502102818\n",
            "  Max 0.8394827694432239\n",
            "  Avg 0.8352077710124903\n",
            "  Std 0.011448734642422059\n",
            "-- Generation 35 --\n",
            "  Evaluated 18 individuals\n",
            "Best individual is [1.029113730790076, 0.03703743006393346, 'rbf', 1, 1, 1, 0, 0, 1, 1, 1, 0, 0, 0, 0, 0, 0, 0, 1, 0, 0, 1, 0, 0, 1, 0, 0, 1, 0, 0, 1, 0, 1], (0.8394827694432239,)\n",
            "  Min 0.788977465319189\n",
            "  Max 0.8394827694432239\n",
            "  Avg 0.8369470215303487\n",
            "  Std 0.007852568009260317\n",
            "-- Generation 36 --\n",
            "  Evaluated 20 individuals\n",
            "Best individual is [1.029113730790076, 0.03703743006393346, 'rbf', 1, 1, 1, 0, 0, 1, 1, 1, 0, 0, 0, 0, 0, 0, 0, 1, 0, 0, 1, 0, 0, 1, 0, 0, 1, 0, 0, 1, 0, 1], (0.8394827694432239,)\n",
            "  Min 0.6161634548992531\n",
            "  Max 0.8394827694432239\n",
            "  Avg 0.8331995480509689\n",
            "  Std 0.026967489894475134\n",
            "-- Generation 37 --\n",
            "  Evaluated 12 individuals\n",
            "Best individual is [1.029113730790076, 0.03703743006393346, 'rbf', 1, 1, 1, 0, 0, 1, 1, 1, 0, 0, 0, 0, 0, 0, 0, 1, 0, 0, 1, 0, 0, 1, 0, 0, 1, 0, 0, 1, 0, 1], (0.8394827694432239,)\n",
            "  Min 0.7868055991463185\n",
            "  Max 0.8394827694432239\n",
            "  Avg 0.8378564434122141\n",
            "  Std 0.006677191287619431\n",
            "-- Generation 38 --\n",
            "  Evaluated 18 individuals\n",
            "Best individual is [1.029113730790076, 0.03703743006393346, 'rbf', 1, 1, 1, 0, 0, 1, 1, 1, 0, 0, 0, 0, 0, 0, 0, 1, 0, 0, 1, 0, 0, 1, 0, 0, 1, 0, 0, 1, 0, 1], (0.8394827694432239,)\n",
            "  Min 0.6195279643462431\n",
            "  Max 0.8394827694432239\n",
            "  Avg 0.834814010419935\n",
            "  Std 0.023805179772087456\n",
            "-- Generation 39 --\n",
            "  Evaluated 24 individuals\n",
            "Best individual is [1.029113730790076, 0.03703743006393346, 'rbf', 1, 1, 1, 0, 0, 1, 1, 1, 0, 0, 0, 0, 0, 0, 0, 1, 0, 0, 1, 0, 0, 1, 0, 0, 1, 0, 0, 1, 0, 1], (0.8394827694432239,)\n",
            "  Min 0.7845207457158997\n",
            "  Max 0.8394827694432239\n",
            "  Avg 0.8359150084740433\n",
            "  Std 0.009953949934970426\n",
            "-- End of (successful) evolution --\n",
            "Best individual is [1.029113730790076, 0.03703743006393346, 'rbf', 1, 1, 1, 0, 0, 1, 1, 1, 0, 0, 0, 0, 0, 0, 0, 1, 0, 0, 1, 0, 0, 1, 0, 0, 1, 0, 0, 1, 0, 1], (0.8394827694432239,)\n"
          ],
          "name": "stdout"
        }
      ]
    },
    {
      "cell_type": "code",
      "metadata": {
        "id": "Xbfey2DCtPBo",
        "colab": {
          "base_uri": "https://localhost:8080/"
        },
        "outputId": "0464fb6d-6ae5-4b6d-e864-7e4928ad78fe"
      },
      "source": [
        "model = getModel(best_ind)\n",
        "Xy = getXy(best_ind)\n",
        "colsSVM = Xy[2]\n",
        "scaler = Xy[3]\n",
        "print(f'Selected Features: {colsSVM}')"
      ],
      "execution_count": null,
      "outputs": [
        {
          "output_type": "stream",
          "text": [
            "Selected Features: ['Pclass', 'Sex', 'Age', 'Fare', 'Embarked', 'Title', 'Young_m', 'Alone', 'Ttype2', 'Ticket_group', 'Young', 'AgeBand']\n"
          ],
          "name": "stdout"
        }
      ]
    },
    {
      "cell_type": "code",
      "metadata": {
        "id": "KlB9wR6vtSls",
        "colab": {
          "base_uri": "https://localhost:8080/"
        },
        "outputId": "314c6cd4-df85-40c4-c6b2-5d32a9b210f4"
      },
      "source": [
        "X_train = Xy[0]\n",
        "Y_train = Xy[1]\n",
        "\n",
        "scores = cross_val_score(model, X_train, Y_train, cv=5).mean()\n",
        "cv_SVMGA_score = scores.mean()\n",
        "print(f'SVMGA CV score: {scores.mean()}')\n",
        "model.fit( X_train , Y_train )\n",
        "print(f'Training score: {model.score(X_train, Y_train)}')"
      ],
      "execution_count": null,
      "outputs": [
        {
          "output_type": "stream",
          "text": [
            "SVMGA CV score: 0.8394827694432239\n",
            "Training score: 0.8383838383838383\n"
          ],
          "name": "stdout"
        }
      ]
    }
  ]
}